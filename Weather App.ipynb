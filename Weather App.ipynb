{
 "cells": [
  {
   "cell_type": "code",
   "execution_count": 3,
   "id": "823afc58",
   "metadata": {},
   "outputs": [],
   "source": [
    "import requests\n",
    "import json"
   ]
  },
  {
   "cell_type": "code",
   "execution_count": 8,
   "id": "9555933a",
   "metadata": {},
   "outputs": [
    {
     "data": {
      "text/plain": [
       "1"
      ]
     },
     "execution_count": 8,
     "metadata": {},
     "output_type": "execute_result"
    }
   ],
   "source": [
    "import win32com.client as wincom\n",
    "\n",
    "# you can insert gaps in the narration by adding sleep calls\n",
    "import time\n",
    "\n",
    "speak = wincom.Dispatch(\"SAPI.SpVoice\")\n",
    "\n",
    "text = \"Python text-to-speech test. using win32com.client\"\n",
    "speak.Speak(text)\n",
    "\n",
    "# 3 second sleep\n",
    "time.sleep(2) \n",
    "\n",
    "text = \"This text is read after 2 seconds\"\n",
    "speak.Speak(text)"
   ]
  },
  {
   "cell_type": "code",
   "execution_count": 10,
   "id": "cf05a81c",
   "metadata": {},
   "outputs": [
    {
     "name": "stdout",
     "output_type": "stream",
     "text": [
      "Enter the name of the city\n",
      "pune\n"
     ]
    },
    {
     "data": {
      "text/plain": [
       "1"
      ]
     },
     "execution_count": 10,
     "metadata": {},
     "output_type": "execute_result"
    }
   ],
   "source": [
    "city = input(\"Enter the name of the city\\n\")\n",
    "url = f\"https://api.weatherapi.com/v1/current.json?key=b13989793f184149a91141538230103&q={city}\"\n",
    "\n",
    "r = requests.get(url)\n",
    "wdic = json.loads(r.text)\n",
    "w = wdic[\"current\"][\"temp_c\"]\n",
    "\n",
    "speak.Speak(f\"The current weather in {city} is {w} degrees\\n\")"
   ]
  },
  {
   "cell_type": "code",
   "execution_count": null,
   "id": "af55e3ba",
   "metadata": {},
   "outputs": [],
   "source": []
  },
  {
   "cell_type": "code",
   "execution_count": null,
   "id": "c314262d",
   "metadata": {},
   "outputs": [],
   "source": []
  },
  {
   "cell_type": "code",
   "execution_count": 12,
   "id": "d068a8ff",
   "metadata": {},
   "outputs": [
    {
     "name": "stdout",
     "output_type": "stream",
     "text": [
      "Requirement already satisfied: requests in c:\\users\\priyanka\\anaconda3\\lib\\site-packages (2.26.0)\n",
      "Collecting python-dotenv\n",
      "  Downloading python_dotenv-1.0.1-py3-none-any.whl (19 kB)\n",
      "Requirement already satisfied: certifi>=2017.4.17 in c:\\users\\priyanka\\anaconda3\\lib\\site-packages (from requests) (2024.8.30)\n",
      "Requirement already satisfied: charset-normalizer~=2.0.0 in c:\\users\\priyanka\\anaconda3\\lib\\site-packages (from requests) (2.0.4)\n",
      "Requirement already satisfied: idna<4,>=2.5 in c:\\users\\priyanka\\anaconda3\\lib\\site-packages (from requests) (3.2)\n",
      "Requirement already satisfied: urllib3<1.27,>=1.21.1 in c:\\users\\priyanka\\anaconda3\\lib\\site-packages (from requests) (1.26.7)\n",
      "Installing collected packages: python-dotenv\n",
      "Successfully installed python-dotenv-1.0.1\n",
      "Note: you may need to restart the kernel to use updated packages.\n"
     ]
    }
   ],
   "source": [
    "pip install requests python-dotenv"
   ]
  },
  {
   "cell_type": "code",
   "execution_count": 58,
   "id": "54d65c87",
   "metadata": {},
   "outputs": [],
   "source": [
    "WEATHER_API_KEY = \"https://api.weatherapi.com/v1/current.json?key=b13989793f184149a91141538230103&q={city}\""
   ]
  },
  {
   "cell_type": "code",
   "execution_count": 59,
   "id": "f8b42342",
   "metadata": {},
   "outputs": [],
   "source": [
    "import os\n",
    "from dotenv import load_dotenv\n",
    "from IPython.display import display, Markdown"
   ]
  },
  {
   "cell_type": "code",
   "execution_count": 68,
   "id": "3eb90001",
   "metadata": {},
   "outputs": [
    {
     "name": "stdout",
     "output_type": "stream",
     "text": [
      "Enter the name of the city (or type 'exit' to quit):\n",
      "Bangalore\n"
     ]
    },
    {
     "data": {
      "text/markdown": [
       "### Weather Report for Bangalore, Karnataka, India\n",
       "- **Temperature:** 20.8°C (69.4°F)\n",
       "- **Condition:** Clear\n",
       "- **Humidity:** 81%\n",
       "- **Wind:** 10.1 km/h NNE\n",
       "- **Visibility:** 10.0 km\n",
       "- **Feels Like:** 20.8°C\n"
      ],
      "text/plain": [
       "<IPython.core.display.Markdown object>"
      ]
     },
     "metadata": {},
     "output_type": "display_data"
    },
    {
     "name": "stdout",
     "output_type": "stream",
     "text": [
      "Enter the name of the city (or type 'exit' to quit):\n",
      "Mumbai\n"
     ]
    },
    {
     "data": {
      "text/markdown": [
       "### Weather Report for Mumbai, Maharashtra, India\n",
       "- **Temperature:** 24.5°C (76.1°F)\n",
       "- **Condition:** Clear\n",
       "- **Humidity:** 60%\n",
       "- **Wind:** 12.6 km/h NNW\n",
       "- **Visibility:** 10.0 km\n",
       "- **Feels Like:** 25.8°C\n"
      ],
      "text/plain": [
       "<IPython.core.display.Markdown object>"
      ]
     },
     "metadata": {},
     "output_type": "display_data"
    },
    {
     "name": "stdout",
     "output_type": "stream",
     "text": [
      "Enter the name of the city (or type 'exit' to quit):\n",
      "jaipur\n"
     ]
    },
    {
     "data": {
      "text/markdown": [
       "### Weather Report for Jaipur, Rajasthan, India\n",
       "- **Temperature:** 12.9°C (55.2°F)\n",
       "- **Condition:** Clear\n",
       "- **Humidity:** 37%\n",
       "- **Wind:** 7.2 km/h SE\n",
       "- **Visibility:** 10.0 km\n",
       "- **Feels Like:** 12.5°C\n"
      ],
      "text/plain": [
       "<IPython.core.display.Markdown object>"
      ]
     },
     "metadata": {},
     "output_type": "display_data"
    },
    {
     "name": "stdout",
     "output_type": "stream",
     "text": [
      "Enter the name of the city (or type 'exit' to quit):\n",
      "kota\n"
     ]
    },
    {
     "data": {
      "text/markdown": [
       "### Weather Report for Kota Bharu, Kelantan, Malaysia\n",
       "- **Temperature:** 24.5°C (76.2°F)\n",
       "- **Condition:** Partly Cloudy\n",
       "- **Humidity:** 88%\n",
       "- **Wind:** 3.6 km/h ESE\n",
       "- **Visibility:** 10.0 km\n",
       "- **Feels Like:** 26.9°C\n"
      ],
      "text/plain": [
       "<IPython.core.display.Markdown object>"
      ]
     },
     "metadata": {},
     "output_type": "display_data"
    },
    {
     "name": "stdout",
     "output_type": "stream",
     "text": [
      "Enter the name of the city (or type 'exit' to quit):\n",
      "exit\n"
     ]
    },
    {
     "data": {
      "text/markdown": [
       "**Thank you for using the weather application. Goodbye!**"
      ],
      "text/plain": [
       "<IPython.core.display.Markdown object>"
      ]
     },
     "metadata": {},
     "output_type": "display_data"
    }
   ],
   "source": [
    "# Load environment variables\n",
    "load_dotenv()\n",
    "API_KEY = os.getenv(\"WEATHER_API_KEY\")\n",
    "\n",
    "# Initialize text-to-speech engine\n",
    "speak = wincom.Dispatch(\"SAPI.SpVoice\")\n",
    "\n",
    "def speak_text(text):\n",
    "    \"\"\"Speak the given text using TTS.\"\"\"\n",
    "    speak.Speak(text)\n",
    "\n",
    "def get_weather(city):\n",
    "    \"\"\"Fetch weather data for a given city.\"\"\"\n",
    "    try:\n",
    "        url = f\"https://api.weatherapi.com/v1/current.json?key=b13989793f184149a91141538230103&q={city}&aqi=no\"\n",
    "        response = requests.get(url)\n",
    "        response.raise_for_status()\n",
    "        data = response.json()\n",
    "        return data\n",
    "    except requests.exceptions.RequestException as e:\n",
    "        speak_text(\"Unable to fetch weather data. Please check your internet connection or city name.\")\n",
    "        display(Markdown(f\"**Error:** {e}\"))\n",
    "        return None\n",
    "\n",
    "def display_weather(data):\n",
    "    '''Display weather details.'''\n",
    "    location = data[\"location\"]\n",
    "    current = data[\"current\"]\n",
    "    \n",
    "    weather_report = (\n",
    "        f\"### Weather Report for {location['name']}, {location['region']}, {location['country']}\\n\"\n",
    "        f\"- **Temperature:** {current['temp_c']}°C ({current['temp_f']}°F)\\n\"\n",
    "        f\"- **Condition:** {current['condition']['text']}\\n\"\n",
    "        f\"- **Humidity:** {current['humidity']}%\\n\"\n",
    "        f\"- **Wind:** {current['wind_kph']} km/h {current['wind_dir']}\\n\"\n",
    "        f\"- **Visibility:** {current['vis_km']} km\\n\"\n",
    "        f\"- **Feels Like:** {current['feelslike_c']}°C\\n\"\n",
    "    )\n",
    "    \n",
    "    # Display in notebook and speak the result\n",
    "    display(Markdown(weather_report))\n",
    "    speak_text(\n",
    "        f\"Weather report for {location['name']}.\"\n",
    "        f\"The temperature is {current['temp_c']} degrees Celsius. \"\n",
    "        f\"The condition is {current['condition']['text']}. \"\n",
    "        f\"Humidity is {current['humidity']} percent.\"\n",
    "    )\n",
    "\n",
    "def run_weather_app():\n",
    "    speak_text(\"Welcome to the Advanced Weather Application.\")\n",
    "    while True:\n",
    "        city = input(\"Enter the name of the city (or type 'exit' to quit):\\n\")\n",
    "        if city.lower() == \"exit\":\n",
    "            speak_text(\"Thank you for using the weather application. Goodbye!\")\n",
    "            display(Markdown(\"**Thank you for using the weather application. Goodbye!**\"))\n",
    "            break\n",
    "        \n",
    "        weather_data = get_weather(city)\n",
    "        if weather_data:\n",
    "            display_weather(weather_data)\n",
    "        else:\n",
    "            speak_text(\"Failed to fetch weather details. Please try again.\")\n",
    "\n",
    "# Run the weather app in Jupyter\n",
    "run_weather_app()"
   ]
  },
  {
   "cell_type": "code",
   "execution_count": 62,
   "id": "69c4d0a7",
   "metadata": {},
   "outputs": [
    {
     "name": "stdout",
     "output_type": "stream",
     "text": [
      "Requirement already satisfied: scikit-learn in c:\\users\\priyanka\\anaconda3\\lib\\site-packages (1.1.3)\n",
      "Requirement already satisfied: matplotlib in c:\\users\\priyanka\\anaconda3\\lib\\site-packages (3.4.3)\n",
      "Requirement already satisfied: pandas in c:\\users\\priyanka\\anaconda3\\lib\\site-packages (1.3.4)\n",
      "Requirement already satisfied: joblib>=1.0.0 in c:\\users\\priyanka\\anaconda3\\lib\\site-packages (from scikit-learn) (1.1.0)\n",
      "Requirement already satisfied: threadpoolctl>=2.0.0 in c:\\users\\priyanka\\anaconda3\\lib\\site-packages (from scikit-learn) (2.2.0)\n",
      "Requirement already satisfied: scipy>=1.3.2 in c:\\users\\priyanka\\anaconda3\\lib\\site-packages (from scikit-learn) (1.7.1)\n",
      "Requirement already satisfied: numpy>=1.17.3 in c:\\users\\priyanka\\anaconda3\\lib\\site-packages (from scikit-learn) (1.20.3)\n",
      "Requirement already satisfied: kiwisolver>=1.0.1 in c:\\users\\priyanka\\anaconda3\\lib\\site-packages (from matplotlib) (1.3.1)\n",
      "Requirement already satisfied: cycler>=0.10 in c:\\users\\priyanka\\anaconda3\\lib\\site-packages (from matplotlib) (0.10.0)\n",
      "Requirement already satisfied: pillow>=6.2.0 in c:\\users\\priyanka\\anaconda3\\lib\\site-packages (from matplotlib) (10.3.0)\n",
      "Requirement already satisfied: python-dateutil>=2.7 in c:\\users\\priyanka\\anaconda3\\lib\\site-packages (from matplotlib) (2.8.2)\n",
      "Requirement already satisfied: pyparsing>=2.2.1 in c:\\users\\priyanka\\anaconda3\\lib\\site-packages (from matplotlib) (3.0.4)\n",
      "Requirement already satisfied: pytz>=2017.3 in c:\\users\\priyanka\\anaconda3\\lib\\site-packages (from pandas) (2021.3)\n",
      "Requirement already satisfied: six in c:\\users\\priyanka\\anaconda3\\lib\\site-packages (from cycler>=0.10->matplotlib) (1.16.0)\n",
      "Note: you may need to restart the kernel to use updated packages.\n"
     ]
    }
   ],
   "source": [
    "pip install scikit-learn matplotlib pandas"
   ]
  },
  {
   "cell_type": "code",
   "execution_count": 63,
   "id": "0c8b64f2",
   "metadata": {},
   "outputs": [
    {
     "name": "stdout",
     "output_type": "stream",
     "text": [
      "Enter the name of the city:\n",
      "Bangalore\n"
     ]
    },
    {
     "data": {
      "text/markdown": [
       "### Historical Weather Data"
      ],
      "text/plain": [
       "<IPython.core.display.Markdown object>"
      ]
     },
     "metadata": {},
     "output_type": "display_data"
    },
    {
     "data": {
      "text/html": [
       "<div>\n",
       "<style scoped>\n",
       "    .dataframe tbody tr th:only-of-type {\n",
       "        vertical-align: middle;\n",
       "    }\n",
       "\n",
       "    .dataframe tbody tr th {\n",
       "        vertical-align: top;\n",
       "    }\n",
       "\n",
       "    .dataframe thead th {\n",
       "        text-align: right;\n",
       "    }\n",
       "</style>\n",
       "<table border=\"1\" class=\"dataframe\">\n",
       "  <thead>\n",
       "    <tr style=\"text-align: right;\">\n",
       "      <th></th>\n",
       "      <th>date</th>\n",
       "      <th>max_temp_c</th>\n",
       "      <th>min_temp_c</th>\n",
       "      <th>avg_temp_c</th>\n",
       "    </tr>\n",
       "  </thead>\n",
       "  <tbody>\n",
       "    <tr>\n",
       "      <th>0</th>\n",
       "      <td>2024-12-17</td>\n",
       "      <td>21.9</td>\n",
       "      <td>15.2</td>\n",
       "      <td>18.4</td>\n",
       "    </tr>\n",
       "    <tr>\n",
       "      <th>1</th>\n",
       "      <td>2024-12-16</td>\n",
       "      <td>25.6</td>\n",
       "      <td>15.3</td>\n",
       "      <td>19.5</td>\n",
       "    </tr>\n",
       "    <tr>\n",
       "      <th>2</th>\n",
       "      <td>2024-12-15</td>\n",
       "      <td>25.1</td>\n",
       "      <td>15.9</td>\n",
       "      <td>20.0</td>\n",
       "    </tr>\n",
       "  </tbody>\n",
       "</table>\n",
       "</div>"
      ],
      "text/plain": [
       "         date  max_temp_c  min_temp_c  avg_temp_c\n",
       "0  2024-12-17        21.9        15.2        18.4\n",
       "1  2024-12-16        25.6        15.3        19.5\n",
       "2  2024-12-15        25.1        15.9        20.0"
      ]
     },
     "metadata": {},
     "output_type": "display_data"
    },
    {
     "name": "stdout",
     "output_type": "stream",
     "text": [
      "Predicted average temperature for the next day: 20.90°C\n"
     ]
    },
    {
     "data": {
      "text/markdown": [
       "### Predicted average temperature for the next day: **20.90°C**"
      ],
      "text/plain": [
       "<IPython.core.display.Markdown object>"
      ]
     },
     "metadata": {},
     "output_type": "display_data"
    },
    {
     "data": {
      "image/png": "[encoded data removed]",
      "text/plain": [
       "<Figure size 720x432 with 1 Axes>"
      ]
     },
     "metadata": {
      "needs_background": "light"
     },
     "output_type": "display_data"
    }
   ],
   "source": [
    "import requests\n",
    "import os\n",
    "from dotenv import load_dotenv\n",
    "from sklearn.linear_model import LinearRegression\n",
    "import numpy as np\n",
    "import pandas as pd\n",
    "import matplotlib.pyplot as plt\n",
    "from IPython.display import display, Markdown\n",
    "\n",
    "# Load environment variables\n",
    "load_dotenv()\n",
    "API_KEY = os.getenv(\"WEATHER_API_KEY\")\n",
    "\n",
    "def get_historical_weather(city, days=3):\n",
    "    \"\"\"Fetch the past weather data for a given city.\"\"\"\n",
    "    try:\n",
    "        url = f\"https://api.weatherapi.com/v1/history.json?key=b13989793f184149a91141538230103&q={city}&dt=\"\n",
    "        weather_data = []\n",
    "        \n",
    "        # Get data for the last 'days' days\n",
    "        for i in range(days):\n",
    "            date = pd.Timestamp.today() - pd.Timedelta(days=(i + 1))\n",
    "            response = requests.get(url + date.strftime(\"%Y-%m-%d\"))\n",
    "            response.raise_for_status()\n",
    "            data = response.json()\n",
    "            day_data = data[\"forecast\"][\"forecastday\"][0][\"day\"]\n",
    "            weather_data.append({\n",
    "                \"date\": date.strftime(\"%Y-%m-%d\"),\n",
    "                \"max_temp_c\": day_data[\"maxtemp_c\"],\n",
    "                \"min_temp_c\": day_data[\"mintemp_c\"],\n",
    "                \"avg_temp_c\": day_data[\"avgtemp_c\"]\n",
    "            })\n",
    "        \n",
    "        return pd.DataFrame(weather_data)\n",
    "    except requests.exceptions.RequestException as e:\n",
    "        print(f\"Error fetching historical weather data: {e}\")\n",
    "        return None\n",
    "\n",
    "def predict_weather(df):\n",
    "    \"\"\"Predict the next day's average temperature based on the previous 3 days.\"\"\"\n",
    "    # Prepare data\n",
    "    X = np.arange(len(df)).reshape(-1, 1)  # Days as feature\n",
    "    y = df[\"avg_temp_c\"].values           # Target variable (avg temperature)\n",
    "    \n",
    "    # Train Linear Regression model\n",
    "    model = LinearRegression()\n",
    "    model.fit(X, y)\n",
    "    \n",
    "    # Predict the next day's temperature\n",
    "    next_day = len(df)\n",
    "    next_temp = model.predict([[next_day]])\n",
    "    \n",
    "    # Display results\n",
    "    print(f\"Predicted average temperature for the next day: {next_temp[0]:.2f}°C\")\n",
    "    display(Markdown(f\"### Predicted average temperature for the next day: **{next_temp[0]:.2f}°C**\"))\n",
    "    \n",
    "    # Plot the temperature trend\n",
    "    plt.figure(figsize=(10, 6))\n",
    "    plt.plot(df[\"date\"], y, marker=\"o\", label=\"Actual Temperatures\")\n",
    "    plt.plot([\"Day 0\", \"Day 1\", \"Day 2\", \"Prediction\"], np.append(y, next_temp), marker=\"x\", linestyle=\"--\", label=\"Predicted Trend\")\n",
    "    plt.xlabel(\"Days\")\n",
    "    plt.ylabel(\"Average Temperature (°C)\")\n",
    "    plt.title(\"Temperature Prediction Based on Previous 3 Days\")\n",
    "    plt.legend()\n",
    "    plt.grid()\n",
    "    plt.show()\n",
    "\n",
    "def run_weather_prediction():\n",
    "    \"\"\"Run the weather prediction application.\"\"\"\n",
    "    city = input(\"Enter the name of the city:\\n\")\n",
    "    historical_data = get_historical_weather(city)\n",
    "    \n",
    "    if historical_data is not None:\n",
    "        display(Markdown(\"### Historical Weather Data\"))\n",
    "        display(historical_data)\n",
    "        predict_weather(historical_data)\n",
    "    else:\n",
    "        print(\"Failed to fetch historical data. Please try again.\")\n",
    "\n",
    "# Run the application\n",
    "run_weather_prediction()"
   ]
  },
  {
   "cell_type": "code",
   "execution_count": null,
   "id": "f913865a",
   "metadata": {},
   "outputs": [],
   "source": []
  },
  {
   "cell_type": "code",
   "execution_count": 64,
   "id": "35cc6c3b",
   "metadata": {},
   "outputs": [
    {
     "name": "stdout",
     "output_type": "stream",
     "text": [
      "Enter the name of the city:\n",
      "Bangalore\n"
     ]
    },
    {
     "data": {
      "text/markdown": [
       "### Historical Weather Data"
      ],
      "text/plain": [
       "<IPython.core.display.Markdown object>"
      ]
     },
     "metadata": {},
     "output_type": "display_data"
    },
    {
     "data": {
      "text/html": [
       "<div>\n",
       "<style scoped>\n",
       "    .dataframe tbody tr th:only-of-type {\n",
       "        vertical-align: middle;\n",
       "    }\n",
       "\n",
       "    .dataframe tbody tr th {\n",
       "        vertical-align: top;\n",
       "    }\n",
       "\n",
       "    .dataframe thead th {\n",
       "        text-align: right;\n",
       "    }\n",
       "</style>\n",
       "<table border=\"1\" class=\"dataframe\">\n",
       "  <thead>\n",
       "    <tr style=\"text-align: right;\">\n",
       "      <th></th>\n",
       "      <th>date</th>\n",
       "      <th>max_temp_c</th>\n",
       "      <th>min_temp_c</th>\n",
       "      <th>avg_temp_c</th>\n",
       "    </tr>\n",
       "  </thead>\n",
       "  <tbody>\n",
       "    <tr>\n",
       "      <th>0</th>\n",
       "      <td>2024-12-17</td>\n",
       "      <td>21.9</td>\n",
       "      <td>15.2</td>\n",
       "      <td>18.4</td>\n",
       "    </tr>\n",
       "    <tr>\n",
       "      <th>1</th>\n",
       "      <td>2024-12-16</td>\n",
       "      <td>25.6</td>\n",
       "      <td>15.3</td>\n",
       "      <td>19.5</td>\n",
       "    </tr>\n",
       "    <tr>\n",
       "      <th>2</th>\n",
       "      <td>2024-12-15</td>\n",
       "      <td>25.1</td>\n",
       "      <td>15.9</td>\n",
       "      <td>20.0</td>\n",
       "    </tr>\n",
       "  </tbody>\n",
       "</table>\n",
       "</div>"
      ],
      "text/plain": [
       "         date  max_temp_c  min_temp_c  avg_temp_c\n",
       "0  2024-12-17        21.9        15.2        18.4\n",
       "1  2024-12-16        25.6        15.3        19.5\n",
       "2  2024-12-15        25.1        15.9        20.0"
      ]
     },
     "metadata": {},
     "output_type": "display_data"
    },
    {
     "name": "stdout",
     "output_type": "stream",
     "text": [
      "Predicted average temperature for the next day: 20.90°C\n"
     ]
    },
    {
     "data": {
      "text/markdown": [
       "### Predicted average temperature for the next day: **20.90°C**"
      ],
      "text/plain": [
       "<IPython.core.display.Markdown object>"
      ]
     },
     "metadata": {},
     "output_type": "display_data"
    },
    {
     "data": {
      "image/png": "[encoded data removed]",
      "text/plain": [
       "<Figure size 720x432 with 1 Axes>"
      ]
     },
     "metadata": {
      "needs_background": "light"
     },
     "output_type": "display_data"
    },
    {
     "name": "stdout",
     "output_type": "stream",
     "text": [
      "Predicted temperature for Day 3: 20.60°C\n",
      "Actual temperature for Day 3: 20.00°C\n",
      "Mean Absolute Error (MAE): 0.20\n",
      "Root Mean Squared Error (RMSE): 0.35\n"
     ]
    }
   ],
   "source": [
    "from sklearn.metrics import mean_absolute_error, mean_squared_error\n",
    "import numpy as np\n",
    "\n",
    "def evaluate_model(df):\n",
    "    \"\"\"Evaluate the model accuracy using backtesting.\"\"\"\n",
    "    # Prepare data\n",
    "    X = np.arange(len(df)).reshape(-1, 1)\n",
    "    y = df[\"avg_temp_c\"].values\n",
    "    \n",
    "    # Train the model on the first two days\n",
    "    model = LinearRegression()\n",
    "    model.fit(X[:-1], y[:-1])  # Use all but the last day for training\n",
    "    \n",
    "    # Predict the temperature for the third day\n",
    "    y_pred = model.predict(X)\n",
    "    predicted_third_day = y_pred[-1]\n",
    "    \n",
    "    # Calculate error metrics\n",
    "    mae = mean_absolute_error(y, y_pred)\n",
    "    rmse = np.sqrt(mean_squared_error(y, y_pred))\n",
    "    \n",
    "    # Display results\n",
    "    print(f\"Predicted temperature for Day 3: {predicted_third_day:.2f}°C\")\n",
    "    print(f\"Actual temperature for Day 3: {y[-1]:.2f}°C\")\n",
    "    print(f\"Mean Absolute Error (MAE): {mae:.2f}\")\n",
    "    print(f\"Root Mean Squared Error (RMSE): {rmse:.2f}\")\n",
    "    \n",
    "    return mae, rmse\n",
    "\n",
    "def run_weather_prediction_with_accuracy():\n",
    "    \"\"\"Run the weather prediction application with model evaluation.\"\"\"\n",
    "    city = input(\"Enter the name of the city:\\n\")\n",
    "    historical_data = get_historical_weather(city)\n",
    "    \n",
    "    if historical_data is not None:\n",
    "        display(Markdown(\"### Historical Weather Data\"))\n",
    "        display(historical_data)\n",
    "        \n",
    "        # Predict and evaluate\n",
    "        predict_weather(historical_data)\n",
    "        evaluate_model(historical_data)\n",
    "    else:\n",
    "        print(\"Failed to fetch historical data. Please try again.\")\n",
    "\n",
    "# Run the application\n",
    "run_weather_prediction_with_accuracy()"
   ]
  },
  {
   "cell_type": "code",
   "execution_count": 65,
   "id": "b3920df9",
   "metadata": {},
   "outputs": [
    {
     "name": "stdout",
     "output_type": "stream",
     "text": [
      "Enter the name of the city:\n",
      "Bhopal\n"
     ]
    },
    {
     "data": {
      "text/markdown": [
       "### Historical Weather Data"
      ],
      "text/plain": [
       "<IPython.core.display.Markdown object>"
      ]
     },
     "metadata": {},
     "output_type": "display_data"
    },
    {
     "data": {
      "text/html": [
       "<div>\n",
       "<style scoped>\n",
       "    .dataframe tbody tr th:only-of-type {\n",
       "        vertical-align: middle;\n",
       "    }\n",
       "\n",
       "    .dataframe tbody tr th {\n",
       "        vertical-align: top;\n",
       "    }\n",
       "\n",
       "    .dataframe thead th {\n",
       "        text-align: right;\n",
       "    }\n",
       "</style>\n",
       "<table border=\"1\" class=\"dataframe\">\n",
       "  <thead>\n",
       "    <tr style=\"text-align: right;\">\n",
       "      <th></th>\n",
       "      <th>date</th>\n",
       "      <th>max_temp_c</th>\n",
       "      <th>min_temp_c</th>\n",
       "      <th>avg_temp_c</th>\n",
       "    </tr>\n",
       "  </thead>\n",
       "  <tbody>\n",
       "    <tr>\n",
       "      <th>0</th>\n",
       "      <td>2024-12-17</td>\n",
       "      <td>25.6</td>\n",
       "      <td>11.8</td>\n",
       "      <td>17.8</td>\n",
       "    </tr>\n",
       "    <tr>\n",
       "      <th>1</th>\n",
       "      <td>2024-12-16</td>\n",
       "      <td>25.2</td>\n",
       "      <td>10.9</td>\n",
       "      <td>17.0</td>\n",
       "    </tr>\n",
       "    <tr>\n",
       "      <th>2</th>\n",
       "      <td>2024-12-15</td>\n",
       "      <td>24.8</td>\n",
       "      <td>10.8</td>\n",
       "      <td>16.7</td>\n",
       "    </tr>\n",
       "  </tbody>\n",
       "</table>\n",
       "</div>"
      ],
      "text/plain": [
       "         date  max_temp_c  min_temp_c  avg_temp_c\n",
       "0  2024-12-17        25.6        11.8        17.8\n",
       "1  2024-12-16        25.2        10.9        17.0\n",
       "2  2024-12-15        24.8        10.8        16.7"
      ]
     },
     "metadata": {},
     "output_type": "display_data"
    },
    {
     "name": "stdout",
     "output_type": "stream",
     "text": [
      "Predicted average temperature for the next day: 16.07°C\n"
     ]
    },
    {
     "data": {
      "text/markdown": [
       "### Predicted average temperature for the next day: **16.07°C**"
      ],
      "text/plain": [
       "<IPython.core.display.Markdown object>"
      ]
     },
     "metadata": {},
     "output_type": "display_data"
    },
    {
     "data": {
      "image/png": "[encoded data removed]",
      "text/plain": [
       "<Figure size 720x432 with 1 Axes>"
      ]
     },
     "metadata": {
      "needs_background": "light"
     },
     "output_type": "display_data"
    },
    {
     "name": "stdout",
     "output_type": "stream",
     "text": [
      "The predicted average temperature for Bhopal tomorrow is 16.07°C.\n"
     ]
    }
   ],
   "source": [
    "def predict_next_day_temperature(df):\n",
    "    \"\"\"Predict the average temperature for the next day.\"\"\"\n",
    "    # Prepare data\n",
    "    X = np.arange(len(df)).reshape(-1, 1)  # Days as feature (0, 1, 2 for 3 days)\n",
    "    y = df[\"avg_temp_c\"].values           # Target variable (avg temperatures)\n",
    "    \n",
    "    # Train Linear Regression model\n",
    "    model = LinearRegression()\n",
    "    model.fit(X, y)\n",
    "    \n",
    "    # Predict temperature for the next day (Day 3)\n",
    "    next_day = len(df)  # The index of the next day\n",
    "    next_temp = model.predict([[next_day]])\n",
    "    \n",
    "    # Display results\n",
    "    print(f\"Predicted average temperature for the next day: {next_temp[0]:.2f}°C\")\n",
    "    display(Markdown(f\"### Predicted average temperature for the next day: **{next_temp[0]:.2f}°C**\"))\n",
    "    \n",
    "    # Plot the temperature trend\n",
    "    plt.figure(figsize=(10, 6))\n",
    "    plt.plot(df[\"date\"], y, marker=\"o\", label=\"Actual Temperatures\")\n",
    "    future_days = df[\"date\"].tolist() + [\"Next Day\"]\n",
    "    future_temps = np.append(y, next_temp)\n",
    "    plt.plot(future_days, future_temps, marker=\"x\", linestyle=\"--\", label=\"Predicted Trend\")\n",
    "    plt.xlabel(\"Days\")\n",
    "    plt.ylabel(\"Average Temperature (°C)\")\n",
    "    plt.title(\"Temperature Prediction for Next Day\")\n",
    "    plt.xticks(rotation=45)\n",
    "    plt.legend()\n",
    "    plt.grid()\n",
    "    plt.show()\n",
    "\n",
    "    return next_temp[0]\n",
    "\n",
    "def run_next_day_prediction():\n",
    "    \"\"\"Run the prediction for the next day's temperature.\"\"\"\n",
    "    city = input(\"Enter the name of the city:\\n\")\n",
    "    historical_data = get_historical_weather(city)\n",
    "    \n",
    "    if historical_data is not None:\n",
    "        display(Markdown(\"### Historical Weather Data\"))\n",
    "        display(historical_data)\n",
    "        \n",
    "        # Predict and display the next day's temperature\n",
    "        next_day_temp = predict_next_day_temperature(historical_data)\n",
    "        print(f\"The predicted average temperature for {city} tomorrow is {next_day_temp:.2f}°C.\")\n",
    "    else:\n",
    "        print(\"Failed to fetch historical data. Please try again.\")\n",
    "\n",
    "# Run the application\n",
    "run_next_day_prediction()"
   ]
  },
  {
   "cell_type": "code",
   "execution_count": 66,
   "id": "bab6f969",
   "metadata": {},
   "outputs": [],
   "source": [
    "import pandas as pd\n",
    "import numpy as np\n",
    "from sklearn.linear_model import LinearRegression\n",
    "import matplotlib.pyplot as plt\n",
    "from IPython.display import display, Markdown"
   ]
  },
  {
   "cell_type": "code",
   "execution_count": 67,
   "id": "a3eebcc9",
   "metadata": {},
   "outputs": [
    {
     "name": "stdout",
     "output_type": "stream",
     "text": [
      "Enter the name of the city:\n",
      "Mumbai\n"
     ]
    },
    {
     "data": {
      "text/markdown": [
       "### Hourly Weather Data for the Last 3 Days"
      ],
      "text/plain": [
       "<IPython.core.display.Markdown object>"
      ]
     },
     "metadata": {},
     "output_type": "display_data"
    },
    {
     "data": {
      "text/html": [
       "<div>\n",
       "<style scoped>\n",
       "    .dataframe tbody tr th:only-of-type {\n",
       "        vertical-align: middle;\n",
       "    }\n",
       "\n",
       "    .dataframe tbody tr th {\n",
       "        vertical-align: top;\n",
       "    }\n",
       "\n",
       "    .dataframe thead th {\n",
       "        text-align: right;\n",
       "    }\n",
       "</style>\n",
       "<table border=\"1\" class=\"dataframe\">\n",
       "  <thead>\n",
       "    <tr style=\"text-align: right;\">\n",
       "      <th></th>\n",
       "      <th>datetime</th>\n",
       "      <th>hour</th>\n",
       "      <th>temp_c</th>\n",
       "    </tr>\n",
       "  </thead>\n",
       "  <tbody>\n",
       "    <tr>\n",
       "      <th>0</th>\n",
       "      <td>2024-12-17 00:00</td>\n",
       "      <td>0</td>\n",
       "      <td>24.0</td>\n",
       "    </tr>\n",
       "    <tr>\n",
       "      <th>1</th>\n",
       "      <td>2024-12-17 01:00</td>\n",
       "      <td>1</td>\n",
       "      <td>23.7</td>\n",
       "    </tr>\n",
       "    <tr>\n",
       "      <th>2</th>\n",
       "      <td>2024-12-17 02:00</td>\n",
       "      <td>2</td>\n",
       "      <td>23.4</td>\n",
       "    </tr>\n",
       "    <tr>\n",
       "      <th>3</th>\n",
       "      <td>2024-12-17 03:00</td>\n",
       "      <td>3</td>\n",
       "      <td>23.2</td>\n",
       "    </tr>\n",
       "    <tr>\n",
       "      <th>4</th>\n",
       "      <td>2024-12-17 04:00</td>\n",
       "      <td>4</td>\n",
       "      <td>22.9</td>\n",
       "    </tr>\n",
       "    <tr>\n",
       "      <th>...</th>\n",
       "      <td>...</td>\n",
       "      <td>...</td>\n",
       "      <td>...</td>\n",
       "    </tr>\n",
       "    <tr>\n",
       "      <th>67</th>\n",
       "      <td>2024-12-15 19:00</td>\n",
       "      <td>19</td>\n",
       "      <td>25.7</td>\n",
       "    </tr>\n",
       "    <tr>\n",
       "      <th>68</th>\n",
       "      <td>2024-12-15 20:00</td>\n",
       "      <td>20</td>\n",
       "      <td>25.6</td>\n",
       "    </tr>\n",
       "    <tr>\n",
       "      <th>69</th>\n",
       "      <td>2024-12-15 21:00</td>\n",
       "      <td>21</td>\n",
       "      <td>25.4</td>\n",
       "    </tr>\n",
       "    <tr>\n",
       "      <th>70</th>\n",
       "      <td>2024-12-15 22:00</td>\n",
       "      <td>22</td>\n",
       "      <td>25.1</td>\n",
       "    </tr>\n",
       "    <tr>\n",
       "      <th>71</th>\n",
       "      <td>2024-12-15 23:00</td>\n",
       "      <td>23</td>\n",
       "      <td>24.9</td>\n",
       "    </tr>\n",
       "  </tbody>\n",
       "</table>\n",
       "<p>72 rows × 3 columns</p>\n",
       "</div>"
      ],
      "text/plain": [
       "            datetime  hour  temp_c\n",
       "0   2024-12-17 00:00     0    24.0\n",
       "1   2024-12-17 01:00     1    23.7\n",
       "2   2024-12-17 02:00     2    23.4\n",
       "3   2024-12-17 03:00     3    23.2\n",
       "4   2024-12-17 04:00     4    22.9\n",
       "..               ...   ...     ...\n",
       "67  2024-12-15 19:00    19    25.7\n",
       "68  2024-12-15 20:00    20    25.6\n",
       "69  2024-12-15 21:00    21    25.4\n",
       "70  2024-12-15 22:00    22    25.1\n",
       "71  2024-12-15 23:00    23    24.9\n",
       "\n",
       "[72 rows x 3 columns]"
      ]
     },
     "metadata": {},
     "output_type": "display_data"
    },
    {
     "data": {
      "text/markdown": [
       "### Predicted Hourly Temperatures for Next Day"
      ],
      "text/plain": [
       "<IPython.core.display.Markdown object>"
      ]
     },
     "metadata": {},
     "output_type": "display_data"
    },
    {
     "data": {
      "text/html": [
       "<div>\n",
       "<style scoped>\n",
       "    .dataframe tbody tr th:only-of-type {\n",
       "        vertical-align: middle;\n",
       "    }\n",
       "\n",
       "    .dataframe tbody tr th {\n",
       "        vertical-align: top;\n",
       "    }\n",
       "\n",
       "    .dataframe thead th {\n",
       "        text-align: right;\n",
       "    }\n",
       "</style>\n",
       "<table border=\"1\" class=\"dataframe\">\n",
       "  <thead>\n",
       "    <tr style=\"text-align: right;\">\n",
       "      <th></th>\n",
       "      <th>hour</th>\n",
       "      <th>predicted_temp_c</th>\n",
       "    </tr>\n",
       "  </thead>\n",
       "  <tbody>\n",
       "    <tr>\n",
       "      <th>0</th>\n",
       "      <td>0</td>\n",
       "      <td>23.766889</td>\n",
       "    </tr>\n",
       "    <tr>\n",
       "      <th>1</th>\n",
       "      <td>1</td>\n",
       "      <td>23.882932</td>\n",
       "    </tr>\n",
       "    <tr>\n",
       "      <th>2</th>\n",
       "      <td>2</td>\n",
       "      <td>23.998976</td>\n",
       "    </tr>\n",
       "    <tr>\n",
       "      <th>3</th>\n",
       "      <td>3</td>\n",
       "      <td>24.115019</td>\n",
       "    </tr>\n",
       "    <tr>\n",
       "      <th>4</th>\n",
       "      <td>4</td>\n",
       "      <td>24.231063</td>\n",
       "    </tr>\n",
       "    <tr>\n",
       "      <th>5</th>\n",
       "      <td>5</td>\n",
       "      <td>24.347106</td>\n",
       "    </tr>\n",
       "    <tr>\n",
       "      <th>6</th>\n",
       "      <td>6</td>\n",
       "      <td>24.463150</td>\n",
       "    </tr>\n",
       "    <tr>\n",
       "      <th>7</th>\n",
       "      <td>7</td>\n",
       "      <td>24.579193</td>\n",
       "    </tr>\n",
       "    <tr>\n",
       "      <th>8</th>\n",
       "      <td>8</td>\n",
       "      <td>24.695237</td>\n",
       "    </tr>\n",
       "    <tr>\n",
       "      <th>9</th>\n",
       "      <td>9</td>\n",
       "      <td>24.811280</td>\n",
       "    </tr>\n",
       "    <tr>\n",
       "      <th>10</th>\n",
       "      <td>10</td>\n",
       "      <td>24.927324</td>\n",
       "    </tr>\n",
       "    <tr>\n",
       "      <th>11</th>\n",
       "      <td>11</td>\n",
       "      <td>25.043367</td>\n",
       "    </tr>\n",
       "    <tr>\n",
       "      <th>12</th>\n",
       "      <td>12</td>\n",
       "      <td>25.159411</td>\n",
       "    </tr>\n",
       "    <tr>\n",
       "      <th>13</th>\n",
       "      <td>13</td>\n",
       "      <td>25.275454</td>\n",
       "    </tr>\n",
       "    <tr>\n",
       "      <th>14</th>\n",
       "      <td>14</td>\n",
       "      <td>25.391498</td>\n",
       "    </tr>\n",
       "    <tr>\n",
       "      <th>15</th>\n",
       "      <td>15</td>\n",
       "      <td>25.507541</td>\n",
       "    </tr>\n",
       "    <tr>\n",
       "      <th>16</th>\n",
       "      <td>16</td>\n",
       "      <td>25.623585</td>\n",
       "    </tr>\n",
       "    <tr>\n",
       "      <th>17</th>\n",
       "      <td>17</td>\n",
       "      <td>25.739628</td>\n",
       "    </tr>\n",
       "    <tr>\n",
       "      <th>18</th>\n",
       "      <td>18</td>\n",
       "      <td>25.855671</td>\n",
       "    </tr>\n",
       "    <tr>\n",
       "      <th>19</th>\n",
       "      <td>19</td>\n",
       "      <td>25.971715</td>\n",
       "    </tr>\n",
       "    <tr>\n",
       "      <th>20</th>\n",
       "      <td>20</td>\n",
       "      <td>26.087758</td>\n",
       "    </tr>\n",
       "    <tr>\n",
       "      <th>21</th>\n",
       "      <td>21</td>\n",
       "      <td>26.203802</td>\n",
       "    </tr>\n",
       "    <tr>\n",
       "      <th>22</th>\n",
       "      <td>22</td>\n",
       "      <td>26.319845</td>\n",
       "    </tr>\n",
       "    <tr>\n",
       "      <th>23</th>\n",
       "      <td>23</td>\n",
       "      <td>26.435889</td>\n",
       "    </tr>\n",
       "  </tbody>\n",
       "</table>\n",
       "</div>"
      ],
      "text/plain": [
       "    hour  predicted_temp_c\n",
       "0      0         23.766889\n",
       "1      1         23.882932\n",
       "2      2         23.998976\n",
       "3      3         24.115019\n",
       "4      4         24.231063\n",
       "5      5         24.347106\n",
       "6      6         24.463150\n",
       "7      7         24.579193\n",
       "8      8         24.695237\n",
       "9      9         24.811280\n",
       "10    10         24.927324\n",
       "11    11         25.043367\n",
       "12    12         25.159411\n",
       "13    13         25.275454\n",
       "14    14         25.391498\n",
       "15    15         25.507541\n",
       "16    16         25.623585\n",
       "17    17         25.739628\n",
       "18    18         25.855671\n",
       "19    19         25.971715\n",
       "20    20         26.087758\n",
       "21    21         26.203802\n",
       "22    22         26.319845\n",
       "23    23         26.435889"
      ]
     },
     "metadata": {},
     "output_type": "display_data"
    },
    {
     "data": {
      "image/png": "[encoded data removed]",
      "text/plain": [
       "<Figure size 864x432 with 1 Axes>"
      ]
     },
     "metadata": {
      "needs_background": "light"
     },
     "output_type": "display_data"
    },
    {
     "name": "stdout",
     "output_type": "stream",
     "text": [
      "Hourly predictions completed successfully!\n"
     ]
    }
   ],
   "source": [
    "def get_hourly_weather(city):\n",
    "    \"\"\"Fetch hourly weather data for the past three days.\"\"\"\n",
    "    api_key = \"b13989793f184149a91141538230103\"\n",
    "    base_url = f\"https://api.weatherapi.com/v1/history.json?key=b13989793f184149a91141538230103&q={city}\"\n",
    "    \n",
    "    # Fetch data for the past three days\n",
    "    historical_data = []\n",
    "    for i in range(1, 4):  # Last 3 days\n",
    "        date = (pd.Timestamp.now() - pd.Timedelta(days=i)).strftime(\"%Y-%m-%d\")\n",
    "        url = f\"{base_url}&dt={date}\"\n",
    "        response = requests.get(url)\n",
    "        if response.status_code == 200:\n",
    "            data = response.json()\n",
    "            for hour in data[\"forecast\"][\"forecastday\"][0][\"hour\"]:\n",
    "                historical_data.append({\n",
    "                    \"datetime\": hour[\"time\"],\n",
    "                    \"hour\": int(hour[\"time\"].split()[-1].split(\":\")[0]),\n",
    "                    \"temp_c\": hour[\"temp_c\"]\n",
    "                })\n",
    "        else:\n",
    "            print(f\"Failed to fetch data for {date}.\")\n",
    "            return None\n",
    "\n",
    "    return pd.DataFrame(historical_data)\n",
    "\n",
    "def predict_next_day_hourly(df):\n",
    "    \"\"\"Predict hourly temperature for the next day.\"\"\"\n",
    "    # Prepare data\n",
    "    df[\"hour\"] = df[\"hour\"] % 24  # Ensure hour stays within [0, 23]\n",
    "    X = df[\"hour\"].values.reshape(-1, 1)\n",
    "    y = df[\"temp_c\"].values\n",
    "\n",
    "    # Train Linear Regression model\n",
    "    model = LinearRegression()\n",
    "    model.fit(X, y)\n",
    "\n",
    "    # Predict temperatures for the next day (24 hours)\n",
    "    next_day_hours = np.arange(0, 24).reshape(-1, 1)\n",
    "    predicted_temps = model.predict(next_day_hours)\n",
    "\n",
    "    # Display predictions\n",
    "    next_day_df = pd.DataFrame({\n",
    "        \"hour\": next_day_hours.flatten(),\n",
    "        \"predicted_temp_c\": predicted_temps\n",
    "    })\n",
    "    display(Markdown(\"### Predicted Hourly Temperatures for Next Day\"))\n",
    "    display(next_day_df)\n",
    "\n",
    "    # Plot the results\n",
    "    plt.figure(figsize=(12, 6))\n",
    "    plt.scatter(df[\"hour\"], y, color=\"blue\", label=\"Historical Temperatures\")\n",
    "    plt.plot(next_day_hours, predicted_temps, color=\"red\", label=\"Predicted Temperatures\")\n",
    "    plt.title(\"Hourly Temperature Prediction for Next Day\")\n",
    "    plt.xlabel(\"Hour of the Day\")\n",
    "    plt.ylabel(\"Temperature (°C)\")\n",
    "    plt.xticks(range(0, 24))\n",
    "    plt.legend()\n",
    "    plt.grid()\n",
    "    plt.show()\n",
    "\n",
    "    return next_day_df\n",
    "\n",
    "def run_hourly_prediction():\n",
    "    \"\"\"Run the application to predict hourly temperatures.\"\"\"\n",
    "    city = input(\"Enter the name of the city:\\n\")\n",
    "    hourly_data = get_hourly_weather(city)\n",
    "    \n",
    "    if hourly_data is not None:\n",
    "        display(Markdown(\"### Hourly Weather Data for the Last 3 Days\"))\n",
    "        display(hourly_data)\n",
    "        \n",
    "        # Predict and display hourly temperatures for the next day\n",
    "        next_day_prediction = predict_next_day_hourly(hourly_data)\n",
    "        print(\"Hourly predictions completed successfully!\")\n",
    "    else:\n",
    "        print(\"Failed to fetch hourly data. Please try again.\")\n",
    "\n",
    "# Run the application\n",
    "run_hourly_prediction()"
   ]
  },
  {
   "cell_type": "code",
   "execution_count": 57,
   "id": "2c11a95b",
   "metadata": {},
   "outputs": [
    {
     "name": "stdout",
     "output_type": "stream",
     "text": [
      "Enter the name of the city:\n",
      "Pune\n"
     ]
    },
    {
     "data": {
      "text/markdown": [
       "### Hourly Weather Data for the Last 3 Days"
      ],
      "text/plain": [
       "<IPython.core.display.Markdown object>"
      ]
     },
     "metadata": {},
     "output_type": "display_data"
    },
    {
     "data": {
      "text/html": [
       "<div>\n",
       "<style scoped>\n",
       "    .dataframe tbody tr th:only-of-type {\n",
       "        vertical-align: middle;\n",
       "    }\n",
       "\n",
       "    .dataframe tbody tr th {\n",
       "        vertical-align: top;\n",
       "    }\n",
       "\n",
       "    .dataframe thead th {\n",
       "        text-align: right;\n",
       "    }\n",
       "</style>\n",
       "<table border=\"1\" class=\"dataframe\">\n",
       "  <thead>\n",
       "    <tr style=\"text-align: right;\">\n",
       "      <th></th>\n",
       "      <th>datetime</th>\n",
       "      <th>hour</th>\n",
       "      <th>temp_c</th>\n",
       "    </tr>\n",
       "  </thead>\n",
       "  <tbody>\n",
       "    <tr>\n",
       "      <th>0</th>\n",
       "      <td>2024-12-17 00:00</td>\n",
       "      <td>0</td>\n",
       "      <td>16.1</td>\n",
       "    </tr>\n",
       "    <tr>\n",
       "      <th>1</th>\n",
       "      <td>2024-12-17 01:00</td>\n",
       "      <td>1</td>\n",
       "      <td>15.7</td>\n",
       "    </tr>\n",
       "    <tr>\n",
       "      <th>2</th>\n",
       "      <td>2024-12-17 02:00</td>\n",
       "      <td>2</td>\n",
       "      <td>15.3</td>\n",
       "    </tr>\n",
       "    <tr>\n",
       "      <th>3</th>\n",
       "      <td>2024-12-17 03:00</td>\n",
       "      <td>3</td>\n",
       "      <td>14.8</td>\n",
       "    </tr>\n",
       "    <tr>\n",
       "      <th>4</th>\n",
       "      <td>2024-12-17 04:00</td>\n",
       "      <td>4</td>\n",
       "      <td>14.3</td>\n",
       "    </tr>\n",
       "    <tr>\n",
       "      <th>...</th>\n",
       "      <td>...</td>\n",
       "      <td>...</td>\n",
       "      <td>...</td>\n",
       "    </tr>\n",
       "    <tr>\n",
       "      <th>67</th>\n",
       "      <td>2024-12-15 19:00</td>\n",
       "      <td>19</td>\n",
       "      <td>20.4</td>\n",
       "    </tr>\n",
       "    <tr>\n",
       "      <th>68</th>\n",
       "      <td>2024-12-15 20:00</td>\n",
       "      <td>20</td>\n",
       "      <td>19.8</td>\n",
       "    </tr>\n",
       "    <tr>\n",
       "      <th>69</th>\n",
       "      <td>2024-12-15 21:00</td>\n",
       "      <td>21</td>\n",
       "      <td>19.0</td>\n",
       "    </tr>\n",
       "    <tr>\n",
       "      <th>70</th>\n",
       "      <td>2024-12-15 22:00</td>\n",
       "      <td>22</td>\n",
       "      <td>17.7</td>\n",
       "    </tr>\n",
       "    <tr>\n",
       "      <th>71</th>\n",
       "      <td>2024-12-15 23:00</td>\n",
       "      <td>23</td>\n",
       "      <td>16.8</td>\n",
       "    </tr>\n",
       "  </tbody>\n",
       "</table>\n",
       "<p>72 rows × 3 columns</p>\n",
       "</div>"
      ],
      "text/plain": [
       "            datetime  hour  temp_c\n",
       "0   2024-12-17 00:00     0    16.1\n",
       "1   2024-12-17 01:00     1    15.7\n",
       "2   2024-12-17 02:00     2    15.3\n",
       "3   2024-12-17 03:00     3    14.8\n",
       "4   2024-12-17 04:00     4    14.3\n",
       "..               ...   ...     ...\n",
       "67  2024-12-15 19:00    19    20.4\n",
       "68  2024-12-15 20:00    20    19.8\n",
       "69  2024-12-15 21:00    21    19.0\n",
       "70  2024-12-15 22:00    22    17.7\n",
       "71  2024-12-15 23:00    23    16.8\n",
       "\n",
       "[72 rows x 3 columns]"
      ]
     },
     "metadata": {},
     "output_type": "display_data"
    },
    {
     "data": {
      "image/png": "[encoded data removed]",
      "text/plain": [
       "<Figure size 864x432 with 1 Axes>"
      ]
     },
     "metadata": {
      "needs_background": "light"
     },
     "output_type": "display_data"
    }
   ],
   "source": [
    "import requests\n",
    "import pandas as pd\n",
    "import numpy as np\n",
    "import time\n",
    "import win32com.client as wincom\n",
    "from sklearn.linear_model import LinearRegression\n",
    "import matplotlib.pyplot as plt\n",
    "from IPython.display import display, Markdown\n",
    "\n",
    "# Initialize text-to-speech engine\n",
    "speak = wincom.Dispatch(\"SAPI.SpVoice\")\n",
    "\n",
    "# Function to speak text\n",
    "def speak_text(text):\n",
    "    speak.Speak(text)\n",
    "\n",
    "# Function to get hourly weather data for the past 3 days\n",
    "def get_hourly_weather(city):\n",
    "    \"\"\"Fetch hourly weather data for the past three days.\"\"\"\n",
    "    api_key = \"b13989793f184149a91141538230103\"\n",
    "    base_url = f\"https://api.weatherapi.com/v1/history.json?key={api_key}&q={city}\"\n",
    "    \n",
    "    # Fetch data for the past three days\n",
    "    historical_data = []\n",
    "    for i in range(1, 4):  # Last 3 days\n",
    "        date = (pd.Timestamp.now() - pd.Timedelta(days=i)).strftime(\"%Y-%m-%d\")\n",
    "        url = f\"{base_url}&dt={date}\"\n",
    "        response = requests.get(url)\n",
    "        if response.status_code == 200:\n",
    "            data = response.json()\n",
    "            for hour in data[\"forecast\"][\"forecastday\"][0][\"hour\"]:\n",
    "                historical_data.append({\n",
    "                    \"datetime\": hour[\"time\"],\n",
    "                    \"hour\": int(hour[\"time\"].split()[-1].split(\":\")[0]),\n",
    "                    \"temp_c\": hour[\"temp_c\"]\n",
    "                })\n",
    "        else:\n",
    "            print(f\"Failed to fetch data for {date}.\")\n",
    "            return None\n",
    "\n",
    "    return pd.DataFrame(historical_data)\n",
    "\n",
    "# Function to predict hourly temperatures for the next day\n",
    "def predict_next_day_hourly(df):\n",
    "    \"\"\"Predict hourly temperature for the next day.\"\"\"\n",
    "    # Prepare data\n",
    "    df[\"hour\"] = df[\"hour\"] % 24  # Ensure hour stays within [0, 23]\n",
    "    X = df[\"hour\"].values.reshape(-1, 1)\n",
    "    y = df[\"temp_c\"].values\n",
    "\n",
    "    # Train Linear Regression model\n",
    "    model = LinearRegression()\n",
    "    model.fit(X, y)\n",
    "\n",
    "    # Predict temperatures for the next day (24 hours)\n",
    "    next_day_hours = np.arange(0, 24).reshape(-1, 1)\n",
    "    predicted_temps = model.predict(next_day_hours)\n",
    "\n",
    "    # Display predictions\n",
    "    next_day_df = pd.DataFrame({\n",
    "        \"hour\": next_day_hours.flatten(),\n",
    "        \"predicted_temp_c\": predicted_temps\n",
    "    })\n",
    "\n",
    "    # Announce each hour's predicted temperature\n",
    "    for index, row in next_day_df.iterrows():\n",
    "        hour = row[\"hour\"]\n",
    "        temp = row[\"predicted_temp_c\"]\n",
    "        speak_text(f\"The predicted temperature for {hour} hour is {temp:.2f} degrees Celsius.\")\n",
    "        time.sleep(1)  # Sleep for 1 second between each prediction\n",
    "\n",
    "    # Plot the results\n",
    "    plt.figure(figsize=(12, 6))\n",
    "    plt.scatter(df[\"hour\"], y, color=\"blue\", label=\"Historical Temperatures\")\n",
    "    plt.plot(next_day_hours, predicted_temps, color=\"red\", label=\"Predicted Temperatures\")\n",
    "    plt.title(\"Hourly Temperature Prediction for Next Day\")\n",
    "    plt.xlabel(\"Hour of the Day\")\n",
    "    plt.ylabel(\"Temperature (°C)\")\n",
    "    plt.xticks(range(0, 24))\n",
    "    plt.legend()\n",
    "    plt.grid()\n",
    "    plt.show()\n",
    "\n",
    "    return next_day_df\n",
    "\n",
    "# Function to run the hourly prediction\n",
    "def run_hourly_prediction():\n",
    "    \"\"\"Run the application to predict hourly temperatures.\"\"\"\n",
    "    city = input(\"Enter the name of the city:\\n\")\n",
    "    speak_text(f\"Fetching weather data for {city}.\")\n",
    "    \n",
    "    hourly_data = get_hourly_weather(city)\n",
    "    \n",
    "    if hourly_data is not None:\n",
    "        display(Markdown(\"### Hourly Weather Data for the Last 3 Days\"))\n",
    "        display(hourly_data)\n",
    "        \n",
    "        # Predict and display hourly temperatures for the next day\n",
    "        next_day_prediction = predict_next_day_hourly(hourly_data)\n",
    "        speak_text(\"Hourly temperature predictions completed successfully.\")\n",
    "    else:\n",
    "        speak_text(\"Failed to fetch hourly data. Please try again.\")\n",
    "\n",
    "# Run the application\n",
    "run_hourly_prediction()"
   ]
  },
  {
   "cell_type": "code",
   "execution_count": null,
   "id": "f6d8d64d",
   "metadata": {},
   "outputs": [],
   "source": []
  }
 ],
 "metadata": {
  "kernelspec": {
   "display_name": "Python 3 (ipykernel)",
   "language": "python",
   "name": "python3"
  },
  "language_info": {
   "codemirror_mode": {
    "name": "ipython",
    "version": 3
   },
   "file_extension": ".py",
   "mimetype": "text/x-python",
   "name": "python",
   "nbconvert_exporter": "python",
   "pygments_lexer": "ipython3",
   "version": "3.9.7"
  }
 },
 "nbformat": 4,
 "nbformat_minor": 5
}
